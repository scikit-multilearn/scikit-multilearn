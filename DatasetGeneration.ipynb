{
 "metadata": {
  "name": "",
  "signature": "sha256:36d70c004b316a2f3c532e0c93f9ecba2e9fa2fed0c9985b68504f549bfdf95b"
 },
 "nbformat": 3,
 "nbformat_minor": 0,
 "worksheets": [
  {
   "cells": [
    {
     "cell_type": "code",
     "collapsed": false,
     "input": [
      "from skmultilearn.dataset import Dataset"
     ],
     "language": "python",
     "metadata": {},
     "outputs": [],
     "prompt_number": 7
    },
    {
     "cell_type": "code",
     "collapsed": false,
     "input": [
      "sets = {\n",
      "    'bibtex': [159, 'i8'],\n",
      "    'Corel5k': [374, 'i8'],\n",
      "    'delicious': [983, 'i8'],\n",
      "    'emotions': [6, 'float_'],\n",
      "    'enron': [53, 'i8'],\n",
      "#    'genbase': [27, 'i8'],\n",
      "    'mediamill': [101, 'float_'],\n",
      "    'medical': [45, 'i8'],\n",
      "    'scene': [6, 'float_'],\n",
      "    'tmc2007-500': [22, 'i8'],\n",
      "    'yeast': [14, 'float_'],\n",
      "}"
     ],
     "language": "python",
     "metadata": {},
     "outputs": [],
     "prompt_number": 6
    },
    {
     "cell_type": "code",
     "collapsed": false,
     "input": [
      "for set_name in sets:\n",
      "    labelcount = sets[set_name][0]\n",
      "    feature_type = sets[set_name][1]\n",
      "    base_dir = \"/home/niedakh/data/\"\n",
      "    fn = {\n",
      "        subset_name: {\n",
      "            # original\n",
      "            'o':        '{}-{}'.format(set_name, subset_name),\n",
      "            # meka\n",
      "            'm':        '{}-{}-meka'.format(set_name, subset_name),\n",
      "            # level1\n",
      "            'l1':       '{}-{}-meka-level1'.format(set_name, subset_name),\n",
      "            # level2\n",
      "            'l2':       '{}-{}-meka-level2-cluster'.format(set_name, subset_name),\n",
      "        }\n",
      "        for subset_name in [\"train\", \"test\"]\n",
      "    }\n",
      "    file_name = base_dir+set_name+\"/{}.arff\"\n",
      "    save_file = \"data/{}.dump\"\n",
      "    \n",
      "    a,b=Dataset.load_arff_to_numpy(file_name.format(fn['train']['m']), labelcount, \"big\", feature_type)\n",
      "    Dataset.save_dataset_dump(save_file.format(fn['train']['o']), a, b)\n",
      "    \n",
      "    a,b=Dataset.load_arff_to_numpy(file_name.format(fn['test']['m']), labelcount, \"big\", feature_type)\n",
      "    Dataset.save_dataset_dump(save_file.format(fn['test']['o']), a, b) "
     ],
     "language": "python",
     "metadata": {},
     "outputs": [],
     "prompt_number": 11
    },
    {
     "cell_type": "code",
     "collapsed": false,
     "input": [
      "np.array([[1, 2, 3],[3,4]])"
     ],
     "language": "python",
     "metadata": {},
     "outputs": [
      {
       "metadata": {},
       "output_type": "pyout",
       "prompt_number": 6,
       "text": [
        "array([[1, 2, 3], [3, 4]], dtype=object)"
       ]
      }
     ],
     "prompt_number": 6
    },
    {
     "cell_type": "code",
     "collapsed": false,
     "input": [
      "a = dict()\n",
      "for s in sets:\n",
      "    a[s] = filter(lambda x: x > 1 and x < sets[s][0], [int(np.ceil(sets[s][0]/10.0)*i) for i in range(1,10)])\n",
      "    "
     ],
     "language": "python",
     "metadata": {},
     "outputs": [],
     "prompt_number": 11
    },
    {
     "cell_type": "code",
     "collapsed": false,
     "input": [
      "a"
     ],
     "language": "python",
     "metadata": {},
     "outputs": [
      {
       "metadata": {},
       "output_type": "pyout",
       "prompt_number": 12,
       "text": [
        "{'Corel5k': [38, 76, 114, 152, 190, 228, 266, 304, 342],\n",
        " 'bibtex': [16, 32, 48, 64, 80, 96, 112, 128, 144],\n",
        " 'delicious': [99, 198, 297, 396, 495, 594, 693, 792, 891],\n",
        " 'emotions': [2, 3, 4, 5],\n",
        " 'enron': [6, 12, 18, 24, 30, 36, 42, 48],\n",
        " 'mediamill': [11, 22, 33, 44, 55, 66, 77, 88, 99],\n",
        " 'medical': [5, 10, 15, 20, 25, 30, 35, 40],\n",
        " 'scene': [2, 3, 4, 5],\n",
        " 'tmc2007-500': [3, 6, 9, 12, 15, 18, 21],\n",
        " 'yeast': [2, 4, 6, 8, 10, 12]}"
       ]
      }
     ],
     "prompt_number": 12
    },
    {
     "cell_type": "code",
     "collapsed": false,
     "input": [],
     "language": "python",
     "metadata": {},
     "outputs": []
    }
   ],
   "metadata": {}
  }
 ]
}