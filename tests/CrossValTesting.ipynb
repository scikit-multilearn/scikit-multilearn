{
 "cells": [
  {
   "cell_type": "code",
   "execution_count": 1,
   "metadata": {},
   "outputs": [],
   "source": [
    "import os\n",
    "os.chdir(os.path.dirname(os.getcwd()))"
   ]
  },
  {
   "cell_type": "code",
   "execution_count": 2,
   "metadata": {},
   "outputs": [],
   "source": [
    "from skmultilearn.problem_transform.br import BinaryRelevance\n",
    "from skmultilearn.dataset import load_dataset\n",
    "\n",
    "from sklearn import model_selection\n",
    "from sklearn.metrics import accuracy_score\n",
    "from sklearn.metrics import f1_score\n",
    "from sklearn.metrics import precision_score\n",
    "\n",
    "# actual estimators\n",
    "from sklearn.naive_bayes import GaussianNB"
   ]
  },
  {
   "cell_type": "code",
   "execution_count": 3,
   "metadata": {},
   "outputs": [
    {
     "name": "stdout",
     "output_type": "stream",
     "text": [
      "scene:undivided - exists, not redownloading\n"
     ]
    }
   ],
   "source": [
    "# capital y because it's a 2d label matrix\n",
    "X, Y, feature_names, label_names = load_dataset('scene', 'undivided')"
   ]
  },
  {
   "cell_type": "code",
   "execution_count": 4,
   "metadata": {},
   "outputs": [],
   "source": [
    "clf = BinaryRelevance(GaussianNB())"
   ]
  },
  {
   "cell_type": "code",
   "execution_count": 5,
   "metadata": {},
   "outputs": [
    {
     "data": {
      "text/plain": [
       "2407"
      ]
     },
     "execution_count": 5,
     "metadata": {},
     "output_type": "execute_result"
    }
   ],
   "source": [
    "num_instances = X.shape[0]\n",
    "num_instances"
   ]
  },
  {
   "cell_type": "code",
   "execution_count": 6,
   "metadata": {},
   "outputs": [],
   "source": [
    "cv = model_selection.ShuffleSplit(num_instances, test_size=0.33,random_state=42)\n",
    "\n",
    "scores = model_selection.cross_val_score(clf, X, Y,\n",
    "                                            cv=cv, scoring='f1_macro')"
   ]
  },
  {
   "cell_type": "code",
   "execution_count": 7,
   "metadata": {},
   "outputs": [
    {
     "data": {
      "text/plain": [
       "{'classifier': GaussianNB(priors=None, var_smoothing=1e-09),\n",
       " 'classifier__priors': None,\n",
       " 'classifier__var_smoothing': 1e-09,\n",
       " 'require_dense': [True, True]}"
      ]
     },
     "execution_count": 7,
     "metadata": {},
     "output_type": "execute_result"
    }
   ],
   "source": [
    "clf.get_params(deep=True)"
   ]
  },
  {
   "cell_type": "code",
   "execution_count": 8,
   "metadata": {},
   "outputs": [
    {
     "name": "stdout",
     "output_type": "stream",
     "text": [
      "Iteration:0, macro-F1: 0.596\n",
      "Iteration:100, macro-F1: 0.578\n",
      "Iteration:200, macro-F1: 0.595\n",
      "Iteration:300, macro-F1: 0.567\n",
      "Iteration:400, macro-F1: 0.598\n",
      "Iteration:500, macro-F1: 0.576\n",
      "Iteration:600, macro-F1: 0.578\n",
      "Iteration:700, macro-F1: 0.588\n",
      "Iteration:800, macro-F1: 0.591\n",
      "Iteration:900, macro-F1: 0.587\n",
      "Iteration:1000, macro-F1: 0.572\n",
      "Iteration:1100, macro-F1: 0.583\n",
      "Iteration:1200, macro-F1: 0.588\n",
      "Iteration:1300, macro-F1: 0.588\n",
      "Iteration:1400, macro-F1: 0.591\n",
      "Iteration:1500, macro-F1: 0.601\n",
      "Iteration:1600, macro-F1: 0.591\n",
      "Iteration:1700, macro-F1: 0.584\n",
      "Iteration:1800, macro-F1: 0.607\n",
      "Iteration:1900, macro-F1: 0.587\n",
      "Iteration:2000, macro-F1: 0.589\n",
      "Iteration:2100, macro-F1: 0.591\n",
      "Iteration:2200, macro-F1: 0.581\n",
      "Iteration:2300, macro-F1: 0.575\n",
      "Iteration:2400, macro-F1: 0.588\n"
     ]
    }
   ],
   "source": [
    "for i,fold_score in enumerate(scores):\n",
    "    # no need to print all lines\n",
    "    if i % 100 != 0: \n",
    "        continue \n",
    "    \n",
    "    print('Iteration:{}, macro-F1: {:.3f}'.format(i,fold_score))"
   ]
  }
 ],
 "metadata": {
  "kernelspec": {
   "display_name": "Python 3",
   "language": "python",
   "name": "python3"
  },
  "language_info": {
   "codemirror_mode": {
    "name": "ipython",
    "version": 3
   },
   "file_extension": ".py",
   "mimetype": "text/x-python",
   "name": "python",
   "nbconvert_exporter": "python",
   "pygments_lexer": "ipython3",
   "version": "3.5.2"
  }
 },
 "nbformat": 4,
 "nbformat_minor": 1
}
