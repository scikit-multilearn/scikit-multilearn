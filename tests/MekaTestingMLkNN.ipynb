{
 "cells": [
  {
   "cell_type": "code",
   "execution_count": 1,
   "metadata": {},
   "outputs": [],
   "source": [
    "import os\n",
    "os.chdir(os.path.dirname(os.getcwd()))"
   ]
  },
  {
   "cell_type": "code",
   "execution_count": 17,
   "metadata": {},
   "outputs": [],
   "source": [
    "import numpy as np\n",
    "\n",
    "from skmultilearn.ext import Meka,download_meka\n",
    "from skmultilearn.dataset import load_dataset\n",
    "from skmultilearn.adapt import MLkNN\n",
    "\n",
    "from sklearn.model_selection import train_test_split\n",
    "from sklearn.metrics import hamming_loss,accuracy_score,f1_score"
   ]
  },
  {
   "cell_type": "code",
   "execution_count": 3,
   "metadata": {},
   "outputs": [
    {
     "name": "stdout",
     "output_type": "stream",
     "text": [
      "MEKA 1.9.2 found, not downloading\n"
     ]
    }
   ],
   "source": [
    "path_to_meka=download_meka()"
   ]
  },
  {
   "cell_type": "code",
   "execution_count": 4,
   "metadata": {},
   "outputs": [
    {
     "name": "stdout",
     "output_type": "stream",
     "text": [
      "scene:undivided - exists, not redownloading\n"
     ]
    }
   ],
   "source": [
    "X, Y, feature_names, label_names = load_dataset('scene', 'undivided')"
   ]
  },
  {
   "cell_type": "code",
   "execution_count": 5,
   "metadata": {},
   "outputs": [],
   "source": [
    "X_train, X_test, Y_train, Y_test = train_test_split(X, Y, test_size=0.33,random_state=42)"
   ]
  },
  {
   "cell_type": "code",
   "execution_count": 6,
   "metadata": {},
   "outputs": [
    {
     "data": {
      "text/plain": [
       "((1612, 294), (795, 294), (1612, 6), (795, 6))"
      ]
     },
     "execution_count": 6,
     "metadata": {},
     "output_type": "execute_result"
    }
   ],
   "source": [
    "X_train.shape,X_test.shape,Y_train.shape,Y_test.shape"
   ]
  },
  {
   "cell_type": "markdown",
   "metadata": {},
   "source": [
    "## train Meka classifier"
   ]
  },
  {
   "cell_type": "markdown",
   "metadata": {},
   "source": [
    ">note that Meka is also a wrapper for all [Mulan](http://mulan.sourceforge.net/) classifiers"
   ]
  },
  {
   "cell_type": "markdown",
   "metadata": {},
   "source": [
    "> The default number of neighbours for Mulan MLkNN is 10 [source](https://github.com/tsoumakas/mulan/blob/master/mulan/src/main/java/mulan/classifier/lazy/MultiLabelKNN.java#L80)"
   ]
  },
  {
   "cell_type": "code",
   "execution_count": 7,
   "metadata": {},
   "outputs": [],
   "source": [
    "meka = Meka(\n",
    "    meka_classifier=\"meka.classifiers.multilabel.MULAN -S MLkNN\",\n",
    "    weka_classifier=\"weka.classifiers.bayes.NaiveBayes\",\n",
    "    meka_classpath=path_to_meka,\n",
    "    java_command='/usr/bin/java'\n",
    ")"
   ]
  },
  {
   "cell_type": "code",
   "execution_count": 8,
   "metadata": {},
   "outputs": [
    {
     "name": "stdout",
     "output_type": "stream",
     "text": [
      "CPU times: user 2.83 s, sys: 96 ms, total: 2.92 s\n",
      "Wall time: 8.69 s\n"
     ]
    },
    {
     "data": {
      "text/plain": [
       "Meka(java_command='/usr/bin/java',\n",
       "   meka_classifier='meka.classifiers.multilabel.MULAN -S MLkNN',\n",
       "   meka_classpath='/home/felipe/scikit_ml_learn_data/meka/meka-release-1.9.2/lib/',\n",
       "   weka_classifier='weka.classifiers.bayes.NaiveBayes')"
      ]
     },
     "execution_count": 8,
     "metadata": {},
     "output_type": "execute_result"
    }
   ],
   "source": [
    "%%time\n",
    "meka.fit(X_train, Y_train)"
   ]
  },
  {
   "cell_type": "code",
   "execution_count": 9,
   "metadata": {
    "scrolled": true
   },
   "outputs": [
    {
     "name": "stdout",
     "output_type": "stream",
     "text": [
      "CPU times: user 1.41 s, sys: 48 ms, total: 1.46 s\n",
      "Wall time: 6.44 s\n"
     ]
    }
   ],
   "source": [
    "%%time\n",
    "Y_preds_meka = meka.predict(X_test)"
   ]
  },
  {
   "cell_type": "markdown",
   "metadata": {},
   "source": [
    "## train skmultilearn classifier"
   ]
  },
  {
   "cell_type": "code",
   "execution_count": 10,
   "metadata": {},
   "outputs": [
    {
     "name": "stdout",
     "output_type": "stream",
     "text": [
      "CPU times: user 2.43 s, sys: 8 ms, total: 2.44 s\n",
      "Wall time: 2.43 s\n"
     ]
    }
   ],
   "source": [
    "%%time\n",
    "skml = MLkNN(k=10)\n",
    "skml.fit(X_train, Y_train)"
   ]
  },
  {
   "cell_type": "code",
   "execution_count": 11,
   "metadata": {},
   "outputs": [
    {
     "name": "stdout",
     "output_type": "stream",
     "text": [
      "CPU times: user 1.34 s, sys: 12 ms, total: 1.36 s\n",
      "Wall time: 1.32 s\n"
     ]
    }
   ],
   "source": [
    "%%time\n",
    "Y_preds_skml = skml.predict(X_test)"
   ]
  },
  {
   "cell_type": "markdown",
   "metadata": {},
   "source": [
    "## compare both outputs"
   ]
  },
  {
   "cell_type": "code",
   "execution_count": 12,
   "metadata": {},
   "outputs": [
    {
     "data": {
      "text/plain": [
       "((795, 6), (795, 6))"
      ]
     },
     "execution_count": 12,
     "metadata": {},
     "output_type": "execute_result"
    }
   ],
   "source": [
    "Y_preds_meka.shape,Y_preds_skml.shape"
   ]
  },
  {
   "cell_type": "code",
   "execution_count": 13,
   "metadata": {},
   "outputs": [
    {
     "data": {
      "text/plain": [
       "676"
      ]
     },
     "execution_count": 13,
     "metadata": {},
     "output_type": "execute_result"
    }
   ],
   "source": [
    "number_of_matches = 0\n",
    "\n",
    "for i in range(Y_preds_meka.shape[0]):\n",
    "    preds_meka = Y_preds_meka[i,:].toarray()\n",
    "    preds_skml = Y_preds_skml[i,:].toarray()\n",
    "    \n",
    "    if(np.allclose(preds_meka,preds_skml)):\n",
    "        number_of_matches += 1\n",
    "number_of_matches"
   ]
  },
  {
   "cell_type": "code",
   "execution_count": 16,
   "metadata": {},
   "outputs": [
    {
     "name": "stdout",
     "output_type": "stream",
     "text": [
      "### Predictions equality ###\n",
      "False\n",
      "\n",
      "### Pctg of exact matches ###\n",
      "85.031%\n",
      "\n",
      "### Hamming loss ###\n",
      "SKML: 0.089518\n",
      "MEKA: 0.092872\n",
      "\n",
      "### Accuracy score ###\n",
      "SKML: 0.644025\n",
      "MEKA: 0.633962 \n",
      "\n",
      "### Micro-F1 score ###\n",
      "SKML: 0.744158\n",
      "MEKA: 0.742292\n",
      "\n"
     ]
    }
   ],
   "source": [
    "print(\"### Predictions equality ###\")\n",
    "print(np.array_equal(Y_preds_meka, Y_preds_skml))\n",
    "print('')\n",
    "print(\"### Pctg of exact matches ###\")\n",
    "print(\"{:.3f}%\".format(number_of_matches/Y_preds_meka.shape[0]*100))\n",
    "print('')\n",
    "print(\"### Hamming loss ###\")\n",
    "print(\"SKML: %f\" % hamming_loss(Y_test, Y_preds_skml))\n",
    "print(\"MEKA: %f\" % hamming_loss(Y_test, Y_preds_meka))\n",
    "print('')\n",
    "print(\"### Accuracy score ###\")\n",
    "print(\"SKML: %f\" % accuracy_score(Y_test, Y_preds_skml))\n",
    "print(\"MEKA: %f \" % accuracy_score(Y_test, Y_preds_meka))\n",
    "print('')\n",
    "print(\"### Micro-F1 score ###\")\n",
    "print(\"SKML: %f\" % f1_score(Y_test, Y_preds_skml,average='micro'))\n",
    "print(\"MEKA: %f\" % f1_score(Y_test, Y_preds_meka,average='micro'))\n",
    "print('')"
   ]
  }
 ],
 "metadata": {
  "kernelspec": {
   "display_name": "Python 3",
   "language": "python",
   "name": "python3"
  },
  "language_info": {
   "codemirror_mode": {
    "name": "ipython",
    "version": 3
   },
   "file_extension": ".py",
   "mimetype": "text/x-python",
   "name": "python",
   "nbconvert_exporter": "python",
   "pygments_lexer": "ipython3",
   "version": "3.5.2"
  }
 },
 "nbformat": 4,
 "nbformat_minor": 1
}
