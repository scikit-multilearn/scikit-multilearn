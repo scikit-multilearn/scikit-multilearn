{
 "cells": [
  {
   "cell_type": "code",
   "execution_count": 1,
   "metadata": {},
   "outputs": [],
   "source": [
    "import os\n",
    "os.chdir(os.path.dirname(os.getcwd()))"
   ]
  },
  {
   "cell_type": "code",
   "execution_count": 9,
   "metadata": {},
   "outputs": [],
   "source": [
    "import numpy as np\n",
    "\n",
    "from skmultilearn.dataset import load_dataset\n",
    "from skmultilearn.adapt.brknn import BRkNNaClassifier,BRkNNbClassifier\n",
    "\n",
    "from sklearn.model_selection import train_test_split\n",
    "import sklearn.metrics"
   ]
  },
  {
   "cell_type": "code",
   "execution_count": 6,
   "metadata": {},
   "outputs": [
    {
     "name": "stdout",
     "output_type": "stream",
     "text": [
      "scene:undivided - exists, not redownloading\n"
     ]
    }
   ],
   "source": [
    "X, Y, feature_names, label_names = load_dataset('scene', 'undivided')"
   ]
  },
  {
   "cell_type": "code",
   "execution_count": 10,
   "metadata": {},
   "outputs": [],
   "source": [
    "X_train, X_test, Y_train, Y_test = train_test_split(X, Y, test_size=0.33,random_state=42)"
   ]
  },
  {
   "cell_type": "code",
   "execution_count": 11,
   "metadata": {},
   "outputs": [],
   "source": [
    "skml_brknna = BRkNNaClassifier()\n",
    "skml_brknna.fit(X_train, Y_train)\n",
    "skml_brknna_predictions = skml_brknna.predict(X_test)\n",
    "\n",
    "skml_brknnb = BRkNNbClassifier()\n",
    "skml_brknnb.fit(X_train, Y_train)\n",
    "skml_brknnb_predictions = skml_brknnb.predict(X_test)"
   ]
  },
  {
   "cell_type": "code",
   "execution_count": 15,
   "metadata": {},
   "outputs": [
    {
     "name": "stdout",
     "output_type": "stream",
     "text": [
      "### Predictions equality ###\n",
      "False\n",
      "\n",
      "### Hamming loss ###\n",
      "BRkNNa: 0.093711\n",
      "BRkNNb: 0.287841\n",
      "\n",
      "### Accuracy score ###\n",
      "BRkNNa: 0.588679\n",
      "BRkNNb: 0.163522\n",
      "\n",
      "### Micro-F1 score ###\n",
      "BRkNNa: 0.695711\n",
      "BRkNNb: 0.169389\n",
      "\n",
      "### Macro-F1 score ###\n",
      "BRkNNa: 0.695467\n",
      "BRkNNb: 0.065873\n"
     ]
    }
   ],
   "source": [
    "print(\"### Predictions equality ###\")\n",
    "print(np.array_equal(skml_brknna_predictions, skml_brknnb_predictions))\n",
    "print('')\n",
    "print(\"### Hamming loss ###\")\n",
    "print(\"BRkNNa: %f\" % sklearn.metrics.hamming_loss(Y_test, skml_brknna_predictions))\n",
    "print(\"BRkNNb: %f\" % sklearn.metrics.hamming_loss(Y_test, skml_brknnb_predictions))\n",
    "print('')\n",
    "print(\"### Accuracy score ###\")\n",
    "print(\"BRkNNa: %f\" % sklearn.metrics.accuracy_score(Y_test, skml_brknna_predictions))\n",
    "print(\"BRkNNb: %f\" % sklearn.metrics.accuracy_score(Y_test, skml_brknnb_predictions))\n",
    "print('')\n",
    "print(\"### Micro-F1 score ###\")\n",
    "print(\"BRkNNa: %f\" % sklearn.metrics.f1_score(Y_test, skml_brknna_predictions,average='micro'))\n",
    "print(\"BRkNNb: %f\" % sklearn.metrics.f1_score(Y_test, skml_brknnb_predictions,average='micro'))\n",
    "print('')\n",
    "print(\"### Macro-F1 score ###\")\n",
    "print(\"BRkNNa: %f\" % sklearn.metrics.f1_score(Y_test, skml_brknna_predictions,average='macro'))\n",
    "print(\"BRkNNb: %f\" % sklearn.metrics.f1_score(Y_test, skml_brknnb_predictions,average='macro'))"
   ]
  }
 ],
 "metadata": {
  "kernelspec": {
   "display_name": "Python 3",
   "language": "python",
   "name": "python3"
  },
  "language_info": {
   "codemirror_mode": {
    "name": "ipython",
    "version": 3
   },
   "file_extension": ".py",
   "mimetype": "text/x-python",
   "name": "python",
   "nbconvert_exporter": "python",
   "pygments_lexer": "ipython3",
   "version": "3.5.2"
  }
 },
 "nbformat": 4,
 "nbformat_minor": 1
}
